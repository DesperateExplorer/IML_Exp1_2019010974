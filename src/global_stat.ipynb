{
 "metadata": {
  "language_info": {
   "codemirror_mode": {
    "name": "ipython",
    "version": 3
   },
   "file_extension": ".py",
   "mimetype": "text/x-python",
   "name": "python",
   "nbconvert_exporter": "python",
   "pygments_lexer": "ipython3",
   "version": "3.7.10"
  },
  "orig_nbformat": 2,
  "kernelspec": {
   "name": "python3710jvsc74a57bd046152f1151e6f7c652b8249eb7858658926a8abf8ced4bfaccc9e4e89edeb3cc",
   "display_name": "Python 3.7.10 64-bit ('base': conda)"
  }
 },
 "nbformat": 4,
 "nbformat_minor": 2,
 "cells": [
  {
   "source": [
    "# 全局统计"
   ],
   "cell_type": "markdown",
   "metadata": {}
  },
  {
   "cell_type": "code",
   "execution_count": 1,
   "metadata": {},
   "outputs": [
    {
     "output_type": "stream",
     "name": "stderr",
     "text": [
      "37822it [01:24, 449.78it/s]\n",
      "数据已存入 ../trec06p/inter/stats_in_EDA.json\n"
     ]
    }
   ],
   "source": [
    "import numpy as np\n",
    "from utlis.stats import stats_in_EDA\n",
    "\n",
    "basic_info = stats_in_EDA('../trec06p/', meta_ls=np.array(['?', '!', '$']), body_ls=np.array(['!', '$']))"
   ]
  },
  {
   "cell_type": "code",
   "execution_count": 2,
   "metadata": {},
   "outputs": [
    {
     "output_type": "stream",
     "name": "stdout",
     "text": [
      "{'max_file_size': 7949024, 'max_size_file': '../data/109/116', 'dataset_size': 37822, 'ham_size': 12910, 'spam_size': 24912}\n"
     ]
    }
   ],
   "source": [
    "print(basic_info)"
   ]
  }
 ]
}